{
 "cells": [
  {
   "cell_type": "markdown",
   "id": "846ba176-c65b-49ee-9e3d-96dd7ea1b2c1",
   "metadata": {},
   "source": [
    "#  Gesture"
   ]
  },
  {
   "cell_type": "code",
   "execution_count": null,
   "id": "06da669e-bc12-4032-a0c3-b1303b986473",
   "metadata": {},
   "outputs": [
    {
     "name": "stdout",
     "output_type": "stream",
     "text": [
      "WARNING:tensorflow:From P:\\Users\\Lenovo\\anaconda3\\Lib\\site-packages\\keras\\src\\losses.py:2976: The name tf.losses.sparse_softmax_cross_entropy is deprecated. Please use tf.compat.v1.losses.sparse_softmax_cross_entropy instead.\n",
      "\n"
     ]
    }
   ],
   "source": [
    "import cv2\n",
    "import mediapipe as mp\n",
    "\n",
    "cap = cv2.VideoCapture(0)\n",
    "mpHands = mp.solutions.hands\n",
    "hands = mpHands.Hands(max_num_hands=1)\n",
    "mpDraw = mp.solutions.drawing_utils\n",
    "\n",
    "tipIds = [4, 8, 12, 16, 20]\n",
    "\n",
    "def get_gesture(fingers):\n",
    "    if fingers==[0,0,0,0,0]:\n",
    "        return \"Fist\"\n",
    "    elif fingers==[1,1,1,1,1]:\n",
    "        return \"Open Hand\"\n",
    "    elif fingers==[0,1,1,0,0]:\n",
    "        return \"Peace\"\n",
    "    elif fingers==[1,1,0,0,1]:\n",
    "        return \"Rock\"\n",
    "    elif fingers==[1,0,0,0,0]:\n",
    "        return \"Thums up\"\n",
    "    elif fingers==[1,0,1,1,1]:\n",
    "        return \"Nice\"\n",
    "    elif fingers==[0,1,0,0,0]:\n",
    "        return \"Index Finger\"\n",
    "    elif fingers==[1,0,0,0,1]:\n",
    "        return \"Call Me\"\n",
    "    elif fingers==[1,1,0,0,0]:\n",
    "        return \"L - Sign\"\n",
    "    elif fingers==[0,1,1,1,1]:\n",
    "        return \"4 fingers UP\"\n",
    "    else:\n",
    "        return \"Unknown\"\n",
    "while True:\n",
    "    ret, frame = cap.read()\n",
    "    frame = cv2.flip(frame, 1)\n",
    "    h, w, c = frame.shape\n",
    "\n",
    "    imgRGB = cv2.cvtColor(frame, cv2.COLOR_BGR2RGB)\n",
    "    results = hands.process(imgRGB)\n",
    "\n",
    "    lmList = []\n",
    "    if results.multi_hand_landmarks:\n",
    "        for handLms in results.multi_hand_landmarks:\n",
    "            mpDraw.draw_landmarks(frame, handLms, mpHands.HAND_CONNECTIONS)\n",
    "\n",
    "            for id, lm in enumerate(handLms.landmark):\n",
    "                cx, cy = int(lm.x * w), int(lm.y * h)\n",
    "                lmList.append([id, cx, cy])\n",
    "\n",
    "    fingers = []\n",
    "    if len(lmList) != 0:\n",
    "        if lmList[tipIds[0]][1] > lmList[tipIds[0] - 1][1]:  \n",
    "            fingers.append(1)\n",
    "        else:\n",
    "            fingers.append(0)\n",
    "\n",
    "        for id in range(1, 5):\n",
    "            if lmList[tipIds[id]][2] < lmList[tipIds[id] - 2][2]:\n",
    "                fingers.append(1)\n",
    "            else:\n",
    "                fingers.append(0)\n",
    "\n",
    "        total_fingers = fingers.count(1)\n",
    "        gestures=get_gesture(fingers)\n",
    "        cv2.putText(frame,gestures, (50, 100),\n",
    "                    cv2.FONT_HERSHEY_COMPLEX, 2, (0,0,0), 3)\n",
    "\n",
    "    cv2.imshow(\"Hand gesture\", frame)\n",
    "\n",
    "    if cv2.waitKey(1) & 0xFF == ord('q'):\n",
    "        break\n",
    "\n",
    "cap.release()\n",
    "cv2.destroyAllWindows()"
   ]
  },
  {
   "cell_type": "code",
   "execution_count": null,
   "id": "8d2a9f58-8ca2-4e3b-a642-62c44d715627",
   "metadata": {},
   "outputs": [],
   "source": []
  }
 ],
 "metadata": {
  "kernelspec": {
   "display_name": "Python [conda env:base] *",
   "language": "python",
   "name": "conda-base-py"
  },
  "language_info": {
   "codemirror_mode": {
    "name": "ipython",
    "version": 3
   },
   "file_extension": ".py",
   "mimetype": "text/x-python",
   "name": "python",
   "nbconvert_exporter": "python",
   "pygments_lexer": "ipython3",
   "version": "3.12.7"
  }
 },
 "nbformat": 4,
 "nbformat_minor": 5
}
