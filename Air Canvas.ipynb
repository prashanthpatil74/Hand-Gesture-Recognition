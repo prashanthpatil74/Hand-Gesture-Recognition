{
 "cells": [
  {
   "cell_type": "markdown",
   "id": "3b1c58bd-e3a5-4398-9e76-9d8e838ac4f1",
   "metadata": {},
   "source": [
    "#   Air Canvas"
   ]
  },
  {
   "cell_type": "code",
   "execution_count": null,
   "id": "459d7a47-b2c7-4a32-b5fa-1fca4d72e466",
   "metadata": {},
   "outputs": [
    {
     "name": "stdout",
     "output_type": "stream",
     "text": [
      "WARNING:tensorflow:From P:\\Users\\Lenovo\\anaconda3\\Lib\\site-packages\\keras\\src\\losses.py:2976: The name tf.losses.sparse_softmax_cross_entropy is deprecated. Please use tf.compat.v1.losses.sparse_softmax_cross_entropy instead.\n",
      "\n"
     ]
    }
   ],
   "source": [
    "import cv2\n",
    "import mediapipe as mp\n",
    "import numpy as np\n",
    "\n",
    "cap=cv2.VideoCapture(0)\n",
    "mpHands=mp.solutions.hands\n",
    "hands=mpHands.Hands(max_num_hands=1)\n",
    "mpDraw=mp.solutions.drawing_utils\n",
    "canvas=np.zeros((480,640,3),dtype=np.uint8)\n",
    "colors=[(255,0,0),(0,255,0),(0,0,255),(0,0,0)]\n",
    "color_names=[\"Blue\",\"Green\",\"Red\",\"Eraser\"]\n",
    "color=colors[0]\n",
    "brush_thickness=7\n",
    "eraser_thickness=30\n",
    "\n",
    "xp,yp=0,0\n",
    "\n",
    "def get_fingers(lms):\n",
    "    tips=[4,8,12,16,20]\n",
    "    up=[]\n",
    "    up.append(1 if lms[tips[0]][0]<lms[tips[0]-1][0] else 0)\n",
    "    for i in range(1,5):\n",
    "        up.append(1 if lms[tips[i]][1]<lms[tips[i]-2][1] else 0)\n",
    "    return up\n",
    "\n",
    "while True:\n",
    "    ret, frame = cap.read()\n",
    "    frame = cv2.flip(frame, 1)\n",
    "\n",
    "    imgRGB = cv2.cvtColor(frame, cv2.COLOR_BGR2RGB)\n",
    "    results = hands.process(imgRGB)\n",
    "    for i in range(len(colors)):\n",
    "        cv2.rectangle(frame,(i*160,0),((i+1)*160,50),colors[i],-1)\n",
    "        cv2.putText(frame,color_names[i],(i*160+10,40),cv2.FONT_HERSHEY_COMPLEX,0.7,(255,255,255),2)\n",
    "\n",
    "\n",
    "    if results.multi_hand_landmarks:\n",
    "        for handLms in results.multi_hand_landmarks:\n",
    "            mpDraw.draw_landmarks(frame, handLms, mpHands.HAND_CONNECTIONS)\n",
    "            lms=[]\n",
    "            h,w,_=frame.shape\n",
    "            for lm in handLms.landmark:\n",
    "                lms.append((int(lm.x*w),int(lm.y*h)))\n",
    "                if lms and len(lms)>=21:\n",
    "                    fingers=get_fingers(lms)\n",
    "                    x1,y1=lms[8]\n",
    "                    if fingers==[0,1,0,0,0]:\n",
    "                        if xp==0 and yp==0:\n",
    "                            xp,yp=x1,y1\n",
    "                        cv2.line(canvas,(xp,yp),(x1,y1),color,brush_thickness)\n",
    "                        xp,yp=x1,y1\n",
    "                    elif sum(fingers)==2 and fingers[1]==1 and fingers[2]==1:\n",
    "                        color=colors[(colors.index(color)+1)%len(colors)]\n",
    "                        xp,yp=0,0\n",
    "                    elif sum(fingers)==5:\n",
    "                        cv2.circle(canvas,(x1,y1),eraser_thickness,(0,0,0),-1)\n",
    "                        xp,yp=0,0\n",
    "                    else:\n",
    "                        xp,yp=0,0\n",
    "    else:\n",
    "        xp,yp=0,0\n",
    "    gray = cv2.cvtColor(canvas, cv2.COLOR_BGR2GRAY)  \n",
    "    _, inv = cv2.threshold(gray, 20, 255, cv2.THRESH_BINARY_INV)\n",
    "    inv = cv2.cvtColor(inv, cv2.COLOR_GRAY2BGR)  \n",
    "\n",
    "    frame=cv2.bitwise_and(frame,inv)\n",
    "    frame=cv2.bitwise_or(frame,canvas)\n",
    "    cv2.imshow(\"Air Canvas\",frame)\n",
    "    if cv2.waitKey(1) & 0xFF == ord('q'):\n",
    "        break\n",
    "cap.release()\n",
    "cv2.destroyAllWindows()"
   ]
  },
  {
   "cell_type": "code",
   "execution_count": null,
   "id": "606e6833-e3ff-441e-a0ca-8d25aa212dc5",
   "metadata": {},
   "outputs": [],
   "source": []
  }
 ],
 "metadata": {
  "kernelspec": {
   "display_name": "Python [conda env:base] *",
   "language": "python",
   "name": "conda-base-py"
  },
  "language_info": {
   "codemirror_mode": {
    "name": "ipython",
    "version": 3
   },
   "file_extension": ".py",
   "mimetype": "text/x-python",
   "name": "python",
   "nbconvert_exporter": "python",
   "pygments_lexer": "ipython3",
   "version": "3.12.7"
  }
 },
 "nbformat": 4,
 "nbformat_minor": 5
}
